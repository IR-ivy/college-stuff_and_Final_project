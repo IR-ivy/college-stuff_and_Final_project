
  {
   "cell_type": "code",
   "execution_count": 59,
   "id": "9a14d463-0e9d-47c6-b93e-bc2d33be4803",
   "metadata": {},
   "outputs": [
    {
     "name": "stdout",
     "output_type": "stream",
     "text": [
      "Too high\n"
     ]
    }
   ],
   "source": [
    "secret = 5\n",
    "guess = 9\n",
    "if secret == guess:\n",
    "    print(\"You got it right\")\n",
    "elif secret < guess:\n",
    "    print(\"Too high\")\n",
    "elif secret > guess:\n",
    "    print(\"Too low\")"
   ]
  },
  {
   "cell_type": "code",
   "execution_count": 63,
   "id": "2ca1a007-65cf-41bc-90e3-d25bc5eca968",
   "metadata": {},
   "outputs": [
    {
     "name": "stdout",
     "output_type": "stream",
     "text": [
      "This is a cherry\n"
     ]
    }
   ],
   "source": [
    "small = True\n",
    "green = False\n",
    "if small:\n",
    "    if green:\n",
    "        print(\"This is a pea\")\n",
    "    else:\n",
    "        print(\"This is a cherry\")\n",
    "else:\n",
    "    if green:\n",
    "        print(\"This is a watermelon\")\n",
    "    else:\n",
    "        print(\"This is a pumpkin\")"
   ]
  },
  {
   "cell_type": "code",
   "execution_count": 69,
   "id": "cb595e38-80e7-44ce-b5f5-74c17c27670d",
   "metadata": {},
   "outputs": [
    {
     "name": "stdout",
     "output_type": "stream",
     "text": [
      "3\n",
      "2\n",
      "1\n",
      "0\n"
     ]
    }
   ],
   "source": [
    "for x in range(3, -1, -1):\n",
    "    print(x)"
   ]
  },
  {
   "cell_type": "code",
   "execution_count": null,
   "id": "725dcef9-816f-4a3b-bfe0-7cae848baab3",
   "metadata": {},
   "outputs": [],
   "source": [
    "guess_me = 7\n",
    "number = 1\n",
    "while guess_me > number:\n",
    "    if guess_me > number:\n",
    "        print(\"It's too low.\")\n",
    "    elif guess_me == number:\n",
    "        print(\"Thats right!\")\n",
    "        break\n",
    "    elif guess_me < number:\n",
    "        print(\"It's too high.\")\n",
    "    number += 1"
   ]
  },
  {
   "cell_type": "code",
   "execution_count": null,
   "id": "b6c0e162-4b0c-410b-80a5-a54946cc11c4",
   "metadata": {},
   "outputs": [],
   "source": [
    "guess_me = 5\n",
    "for number in range(10):\n",
    "    if number < guess_me:\n",
    "        print('too low')\n",
    "    elif number == guess_me:\n",
    "        print('found it!')\n",
    "        break\n",
    "    else:\n",
    "        print('oops')\n",
    "        break\n"
   ]
  }
 ],
 "metadata": {
  "kernelspec": {
   "display_name": "Python 3 (ipykernel)",
   "language": "python",
   "name": "python3"
  },
  "language_info": {
   "codemirror_mode": {
    "name": "ipython",
    "version": 3
   },
   "file_extension": ".py",
   "mimetype": "text/x-python",
   "name": "python",
   "nbconvert_exporter": "python",
   "pygments_lexer": "ipython3",
   "version": "3.12.4"
  }
 },
 "nbformat": 4,
 "nbformat_minor": 5
}
