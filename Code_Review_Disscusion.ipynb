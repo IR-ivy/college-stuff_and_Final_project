{
 "cells": [
  {
   "cell_type": "code",
   "execution_count": 3,
   "id": "13a22732-523f-4a27-aa06-5398def7b14b",
   "metadata": {},
   "outputs": [
    {
     "name": "stdout",
     "output_type": "stream",
     "text": [
      "First Name: Isaac\n",
      "Last Name: Roach\n",
      "Username: Isaac.Roach@example.com\n",
      "Password: password\n",
      "Age: 17\n",
      "Welcome Isaac Roach\n",
      "First Name: Kyle\n",
      "Last Name: Mault\n",
      "Username: Kyle.Mault@example.com\n",
      "Password: password\n",
      "Age: 17\n",
      "Welcome Kyle Mault\n",
      "First Name: Avonta\n",
      "Last Name: Carlisle\n",
      "Username: Avonta.Carlisle@example.com\n",
      "Password: password\n",
      "Age: 17\n",
      "Welcome Avonta Carlisle\n",
      "First Name: Gage\n",
      "Last Name: Connor\n",
      "Username: Gage.Connor@example.com\n",
      "Password: password\n",
      "Age: 17\n",
      "Welcome Gage Connor\n",
      "First Name: Tenieya\n",
      "Last Name: Craig\n",
      "Username: Tenieya.Craig@example.com\n",
      "Password: password\n",
      "Age: 17\n",
      "Welcome Tenieya Craig\n"
     ]
    }
   ],
   "source": [
    "class User():\n",
    "    def __init__(self, first_name, last_name, username, password, age):\n",
    "        self.first_name = first_name\n",
    "        self.last_name = last_name\n",
    "        self.username = username\n",
    "        self.password = password\n",
    "        self.age = age\n",
    "    \n",
    "\n",
    "    def describe_user(self):\n",
    "        print(f\"First Name: {self.first_name}\")\n",
    "        print(f\"Last Name: {self.last_name}\")\n",
    "        print(f\"Username: {self.username}\")\n",
    "        print(f\"Password: {self.password}\")\n",
    "        print(f\"Age: {self.age}\")\n",
    "\n",
    "    def greet_users(self):\n",
    "        print(f'Welcome {self.first_name} {self.last_name}')\n",
    "\n",
    "user = User(\"Isaac\", \"Roach\", \"Isaac.Roach@example.com\", \"password\", 17)\n",
    "user2 = User(\"Kyle\", \"Mault\", \"Kyle.Mault@example.com\", \"password\", 17)\n",
    "user3 = User(\"Avonta\", \"Carlisle\", \"Avonta.Carlisle@example.com\", \"password\", 17)\n",
    "user4 = User(\"Gage\", \"Connor\", \"Gage.Connor@example.com\", \"password\", 17)\n",
    "user5 = User(\"Tenieya\", \"Craig\", \"Tenieya.Craig@example.com\", \"password\", 17)\n",
    "users = [user, user2, user3, user4, user5]\n",
    "for user in users:  # Iterate through the list of users\n",
    "    user.describe_user()\n",
    "    user.greet_users()\n"
   ]
  },
  {
   "cell_type": "code",
   "execution_count": null,
   "id": "640df0ae-ac4b-4a3a-891b-ceaa4709ec99",
   "metadata": {},
   "outputs": [],
   "source": []
  }
 ],
 "metadata": {
  "kernelspec": {
   "display_name": "Python 3 (ipykernel)",
   "language": "python",
   "name": "python3"
  },
  "language_info": {
   "codemirror_mode": {
    "name": "ipython",
    "version": 3
   },
   "file_extension": ".py",
   "mimetype": "text/x-python",
   "name": "python",
   "nbconvert_exporter": "python",
   "pygments_lexer": "ipython3",
   "version": "3.12.4"
  }
 },
 "nbformat": 4,
 "nbformat_minor": 5
}
