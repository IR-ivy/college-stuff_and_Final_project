{
 "cells": [
  {
   "cell_type": "code",
   "execution_count": 3,
   "id": "b8f852fe-2794-409b-90b3-c305efbec4c0",
   "metadata": {},
   "outputs": [],
   "source": [
    "# 60 sec/min * 60 min/hr * 24 hr/day\n",
    "seconds_per_day = 86400"
   ]
  },
  {
   "cell_type": "code",
   "execution_count": 5,
   "id": "98dd84a1-bd06-418a-a28d-fcd25bdc4f20",
   "metadata": {},
   "outputs": [],
   "source": [
    "seconds_per_day = 86400 # 60 sec/min * 60 min/hr * 24 hr/day"
   ]
  },
  {
   "cell_type": "code",
   "execution_count": 7,
   "id": "d77bb68f-2ce1-421e-a90a-42a321055136",
   "metadata": {},
   "outputs": [
    {
     "name": "stdout",
     "output_type": "stream",
     "text": [
      "No comment: quotes make the # harmless.\n"
     ]
    }
   ],
   "source": [
    "print(\"No comment: quotes make the # harmless.\")"
   ]
  },
  {
   "cell_type": "code",
   "execution_count": 9,
   "id": "01fa9dd6-dc34-4769-a4d7-edcc6ee52216",
   "metadata": {},
   "outputs": [],
   "source": [
    "sum = 0\n",
    "sum += 1\n",
    "sum += 2\n",
    "sum += 3\n",
    "sum += 4"
   ]
  },
  {
   "cell_type": "code",
   "execution_count": 11,
   "id": "4ac231fb-8867-4a3c-9469-77e1ab89e785",
   "metadata": {},
   "outputs": [
    {
     "data": {
      "text/plain": [
       "10"
      ]
     },
     "execution_count": 11,
     "metadata": {},
     "output_type": "execute_result"
    }
   ],
   "source": [
    "sum"
   ]
  },
  {
   "cell_type": "code",
   "execution_count": 15,
   "id": "0014d123-9865-4ee1-80e6-d96ceed19908",
   "metadata": {},
   "outputs": [
    {
     "data": {
      "text/plain": [
       "10"
      ]
     },
     "execution_count": 15,
     "metadata": {},
     "output_type": "execute_result"
    }
   ],
   "source": [
    "sum = (\n",
    "    1 +\n",
    "    2 +\n",
    "    3 +\n",
    "    4)\n",
    "sum"
   ]
  },
  {
   "cell_type": "code",
   "execution_count": 17,
   "id": "a317bdb4-cc17-4406-92eb-05a77698a2e3",
   "metadata": {},
   "outputs": [
    {
     "name": "stdout",
     "output_type": "stream",
     "text": [
      "Woe\n"
     ]
    }
   ],
   "source": [
    "disaster = True\n",
    "if disaster:\n",
    "    print(\"Woe\")\n",
    "else:\n",
    "    print(\"Whee!\")"
   ]
  },
  {
   "cell_type": "code",
   "execution_count": 19,
   "id": "3d4d5f9f-2aa5-4abc-86bf-2e0a063f02db",
   "metadata": {},
   "outputs": [
    {
     "name": "stdout",
     "output_type": "stream",
     "text": [
      "It's a yeti.\n"
     ]
    }
   ],
   "source": [
    "furry = True\n",
    "large = True\n",
    "if furry:\n",
    "    if large:\n",
    "        print(\"It's a yeti.\")\n",
    "    else:\n",
    "        print(\"It's a cat!\")\n",
    "else:\n",
    "    if large:\n",
    "        print(\"It's a whale!\")\n",
    "    else: print(\"It's a human. or a hairless cat.\")\n",
    "        "
   ]
  },
  {
   "cell_type": "code",
   "execution_count": 21,
   "id": "d7ec0538-df4b-4ee6-9240-60c1455fff89",
   "metadata": {},
   "outputs": [
    {
     "name": "stdout",
     "output_type": "stream",
     "text": [
      "I've never heard of the color mauve\n"
     ]
    }
   ],
   "source": [
    "color = \"mauve\"\n",
    "if color == \"red\":\n",
    "     print(\"It's a tomato\")\n",
    "elif color == \"green\":\n",
    "     print(\"It's a green pepper\")\n",
    "elif color == \"bee purple\":\n",
    "     print(\"I don't know what it is, but only bees can see it\")\n",
    "else:\n",
    "     print(\"I've never heard of the color\", color)"
   ]
  },
  {
   "cell_type": "code",
   "execution_count": 23,
   "id": "c1e72f7d-d03e-457e-92b8-9cc69dd47548",
   "metadata": {},
   "outputs": [
    {
     "data": {
      "text/plain": [
       "False"
      ]
     },
     "execution_count": 23,
     "metadata": {},
     "output_type": "execute_result"
    }
   ],
   "source": [
    "x = 7\n",
    "x == 5"
   ]
  },
  {
   "cell_type": "code",
   "execution_count": 25,
   "id": "68da3265-a470-4275-88f9-4c081369bba0",
   "metadata": {},
   "outputs": [
    {
     "data": {
      "text/plain": [
       "True"
      ]
     },
     "execution_count": 25,
     "metadata": {},
     "output_type": "execute_result"
    }
   ],
   "source": [
    "x == 7"
   ]
  },
  {
   "cell_type": "code",
   "execution_count": 27,
   "id": "02a768c6-9e63-4591-af82-42ece0056481",
   "metadata": {},
   "outputs": [
    {
     "data": {
      "text/plain": [
       "True"
      ]
     },
     "execution_count": 27,
     "metadata": {},
     "output_type": "execute_result"
    }
   ],
   "source": [
    "5 < x"
   ]
  },
  {
   "cell_type": "code",
   "execution_count": 29,
   "id": "3fcff5a5-d4a5-4e5c-b117-ee71c393e578",
   "metadata": {},
   "outputs": [
    {
     "data": {
      "text/plain": [
       "True"
      ]
     },
     "execution_count": 29,
     "metadata": {},
     "output_type": "execute_result"
    }
   ],
   "source": [
    "x < 10"
   ]
  },
  {
   "cell_type": "code",
   "execution_count": 31,
   "id": "0c67970d-2f2b-4352-88ae-0a1f1a407366",
   "metadata": {},
   "outputs": [
    {
     "data": {
      "text/plain": [
       "True"
      ]
     },
     "execution_count": 31,
     "metadata": {},
     "output_type": "execute_result"
    }
   ],
   "source": [
    "5 < x and x < 10"
   ]
  },
  {
   "cell_type": "code",
   "execution_count": 33,
   "id": "ea15c116-2d33-4963-aebe-efac25bf24bc",
   "metadata": {},
   "outputs": [
    {
     "data": {
      "text/plain": [
       "True"
      ]
     },
     "execution_count": 33,
     "metadata": {},
     "output_type": "execute_result"
    }
   ],
   "source": [
    "(5 < x) and (x < 10)"
   ]
  },
  {
   "cell_type": "code",
   "execution_count": 35,
   "id": "4ef10699-27b8-4a2d-b044-e61fa4af5177",
   "metadata": {},
   "outputs": [
    {
     "data": {
      "text/plain": [
       "False"
      ]
     },
     "execution_count": 35,
     "metadata": {},
     "output_type": "execute_result"
    }
   ],
   "source": [
    "5 < x and x < 10\n",
    "5 < x and x > 10"
   ]
  },
  {
   "cell_type": "code",
   "execution_count": 37,
   "id": "ca233747-741a-4f5f-8d9d-b13c13b4485b",
   "metadata": {},
   "outputs": [
    {
     "data": {
      "text/plain": [
       "True"
      ]
     },
     "execution_count": 37,
     "metadata": {},
     "output_type": "execute_result"
    }
   ],
   "source": [
    "5 < x and not x > 10"
   ]
  },
  {
   "cell_type": "code",
   "execution_count": 39,
   "id": "1d1a1476-e0d0-476d-907e-de95b74a4ecb",
   "metadata": {},
   "outputs": [
    {
     "name": "stdout",
     "output_type": "stream",
     "text": [
      "Hey, it's empty!\n"
     ]
    }
   ],
   "source": [
    "some_list = []\n",
    "if some_list:\n",
    "    print(\"There'ss something in here\")\n",
    "else:\n",
    "    print(\"Hey, it's empty!\")"
   ]
  },
  {
   "cell_type": "code",
   "execution_count": 41,
   "id": "5bb05cd4-d04c-4744-9abb-107bad868a1f",
   "metadata": {},
   "outputs": [
    {
     "name": "stdout",
     "output_type": "stream",
     "text": [
      "o is a vowel\n"
     ]
    }
   ],
   "source": [
    "letter = 'o'\n",
    "if letter == 'a' or letter == 'e' or letter == 'i' \\\n",
    "    or letter == 'o' or letter == 'u':\n",
    "    print(letter, 'is a vowel')\n",
    "else:\n",
    "    print(letter, 'is not a vowel')"
   ]
  },
  {
   "cell_type": "code",
   "execution_count": 45,
   "id": "c13616c6-b28f-405e-a083-e8ff79780600",
   "metadata": {},
   "outputs": [
    {
     "data": {
      "text/plain": [
       "True"
      ]
     },
     "execution_count": 45,
     "metadata": {},
     "output_type": "execute_result"
    }
   ],
   "source": [
    "vowels = 'aeiou'\n",
    "letter = 'o'\n",
    "letter in vowels"
   ]
  },
  {
   "cell_type": "code",
   "execution_count": 47,
   "id": "cca4175d-c11b-40be-bb25-9f4b30140d15",
   "metadata": {},
   "outputs": [
    {
     "name": "stdout",
     "output_type": "stream",
     "text": [
      "o is a vowel\n"
     ]
    }
   ],
   "source": [
    "if letter in vowels:\n",
    "    print(letter, 'is a vowel')"
   ]
  },
  {
   "cell_type": "code",
   "execution_count": 49,
   "id": "95e1afd5-64a8-417b-8b46-6feb722e2958",
   "metadata": {},
   "outputs": [
    {
     "data": {
      "text/plain": [
       "True"
      ]
     },
     "execution_count": 49,
     "metadata": {},
     "output_type": "execute_result"
    }
   ],
   "source": [
    "letter = 'o'\n",
    "vowel_set = {'a', 'e', 'i', 'o', 'u'}\n",
    "letter in vowel_set"
   ]
  },
  {
   "cell_type": "code",
   "execution_count": 51,
   "id": "03fe921e-b701-444a-bc8a-e9b19fcc861c",
   "metadata": {},
   "outputs": [
    {
     "data": {
      "text/plain": [
       "True"
      ]
     },
     "execution_count": 51,
     "metadata": {},
     "output_type": "execute_result"
    }
   ],
   "source": [
    "vowel_list = ['a', 'e', 'i', 'o', 'u']\n",
    "letter in vowel_list"
   ]
  },
  {
   "cell_type": "code",
   "execution_count": 53,
   "id": "feb8aab9-c696-4c25-8d9c-bc5d0d16d182",
   "metadata": {},
   "outputs": [
    {
     "data": {
      "text/plain": [
       "True"
      ]
     },
     "execution_count": 53,
     "metadata": {},
     "output_type": "execute_result"
    }
   ],
   "source": [
    "vowel_tuple = ('a', 'e', 'i', 'o', 'u')\n",
    "letter in vowel_tuple"
   ]
  },
  {
   "cell_type": "code",
   "execution_count": 55,
   "id": "09a3a120-8af4-40a1-8bcc-14e699b045e9",
   "metadata": {},
   "outputs": [
    {
     "data": {
      "text/plain": [
       "True"
      ]
     },
     "execution_count": 55,
     "metadata": {},
     "output_type": "execute_result"
    }
   ],
   "source": [
    "vowel_dict = {'a': 'apple', 'e': 'elephant',\n",
    "              'i': 'impala', 'o': 'ocelot', 'u': 'unicorn'}\n",
    "letter in vowel_dict"
   ]
  },
  {
   "cell_type": "code",
   "execution_count": 57,
   "id": "671e15e8-05d8-4ae8-a980-a9ef705bb05c",
   "metadata": {},
   "outputs": [
    {
     "data": {
      "text/plain": [
       "True"
      ]
     },
     "execution_count": 57,
     "metadata": {},
     "output_type": "execute_result"
    }
   ],
   "source": [
    "vowel_string = \"aeiou\"\n",
    "letter in vowel_string"
   ]
  },
  {
   "cell_type": "code",
   "execution_count": 59,
   "id": "9a14d463-0e9d-47c6-b93e-bc2d33be4803",
   "metadata": {},
   "outputs": [
    {
     "name": "stdout",
     "output_type": "stream",
     "text": [
      "Too high\n"
     ]
    }
   ],
   "source": [
    "secret = 5\n",
    "guess = 9\n",
    "if secret == guess:\n",
    "    print(\"You got it right\")\n",
    "elif secret < guess:\n",
    "    print(\"Too high\")\n",
    "elif secret > guess:\n",
    "    print(\"Too low\")"
   ]
  },
  {
   "cell_type": "code",
   "execution_count": 63,
   "id": "2ca1a007-65cf-41bc-90e3-d25bc5eca968",
   "metadata": {},
   "outputs": [
    {
     "name": "stdout",
     "output_type": "stream",
     "text": [
      "This is a cherry\n"
     ]
    }
   ],
   "source": [
    "small = True\n",
    "green = False\n",
    "if small:\n",
    "    if green:\n",
    "        print(\"This is a pea\")\n",
    "    else:\n",
    "        print(\"This is a cherry\")\n",
    "else:\n",
    "    if green:\n",
    "        print(\"This is a watermelon\")\n",
    "    else:\n",
    "        print(\"This is a pumpkin\")"
   ]
  },
  {
   "cell_type": "code",
   "execution_count": 69,
   "id": "cb595e38-80e7-44ce-b5f5-74c17c27670d",
   "metadata": {},
   "outputs": [
    {
     "name": "stdout",
     "output_type": "stream",
     "text": [
      "3\n",
      "2\n",
      "1\n",
      "0\n"
     ]
    }
   ],
   "source": [
    "for x in range(3, -1, -1):\n",
    "    print(x)"
   ]
  },
  {
   "cell_type": "code",
   "execution_count": null,
   "id": "725dcef9-816f-4a3b-bfe0-7cae848baab3",
   "metadata": {},
   "outputs": [],
   "source": [
    "guess_me = 7\n",
    "number = 1\n",
    "while guess_me > number:\n",
    "    if guess_me > number:\n",
    "        print(\"It's too low.\")\n",
    "    elif guess_me == number:\n",
    "        print(\"Thats right!\")\n",
    "        break\n",
    "    elif guess_me < number:\n",
    "        print(\"It's too high.\")\n",
    "    number += 1"
   ]
  },
  {
   "cell_type": "code",
   "execution_count": null,
   "id": "b6c0e162-4b0c-410b-80a5-a54946cc11c4",
   "metadata": {},
   "outputs": [],
   "source": [
    "guess_me = 5\n",
    "for number in range(10):\n",
    "    if number < guess_me:\n",
    "        print('too low')\n",
    "    elif number == guess_me:\n",
    "        print('found it!')\n",
    "        break\n",
    "    else:\n",
    "        print('oops')\n",
    "        break\n"
   ]
  }
 ],
 "metadata": {
  "kernelspec": {
   "display_name": "Python 3 (ipykernel)",
   "language": "python",
   "name": "python3"
  },
  "language_info": {
   "codemirror_mode": {
    "name": "ipython",
    "version": 3
   },
   "file_extension": ".py",
   "mimetype": "text/x-python",
   "name": "python",
   "nbconvert_exporter": "python",
   "pygments_lexer": "ipython3",
   "version": "3.12.4"
  }
 },
 "nbformat": 4,
 "nbformat_minor": 5
}
