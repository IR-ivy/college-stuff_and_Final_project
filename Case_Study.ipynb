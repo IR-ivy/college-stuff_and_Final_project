{
 "cells": [
  {
   "cell_type": "code",
   "execution_count": 5,
   "id": "b0612ff4-bbff-45af-bd75-49a728683852",
   "metadata": {},
   "outputs": [
    {
     "name": "stdin",
     "output_type": "stream",
     "text": [
      "Please insert your last name or if you wish to not continue please input ZZZ in all caps. ZZZ\n"
     ]
    },
    {
     "name": "stdout",
     "output_type": "stream",
     "text": [
      "We will not continue to see if you are on the Dean's list!\n"
     ]
    },
    {
     "name": "stdin",
     "output_type": "stream",
     "text": [
      "Please insert your last name or if you wish to not continue please input ZZZ in all caps. ZZZ\n"
     ]
    },
    {
     "name": "stdout",
     "output_type": "stream",
     "text": [
      "We will not continue to see if you are on the Dean's list!\n"
     ]
    },
    {
     "name": "stdin",
     "output_type": "stream",
     "text": [
      "Please insert your last name or if you wish to not continue please input ZZZ in all caps. ZZZ\n"
     ]
    },
    {
     "name": "stdout",
     "output_type": "stream",
     "text": [
      "We will not continue to see if you are on the Dean's list!\n"
     ]
    },
    {
     "name": "stdin",
     "output_type": "stream",
     "text": [
      "Please insert your last name or if you wish to not continue please input ZZZ in all caps. ZZZ\n"
     ]
    },
    {
     "name": "stdout",
     "output_type": "stream",
     "text": [
      "We will not continue to see if you are on the Dean's list!\n"
     ]
    },
    {
     "name": "stdin",
     "output_type": "stream",
     "text": [
      "Please insert your last name or if you wish to not continue please input ZZZ in all caps. ZZZ\n"
     ]
    },
    {
     "name": "stdout",
     "output_type": "stream",
     "text": [
      "We will not continue to see if you are on the Dean's list!\n"
     ]
    }
   ],
   "source": [
    "for i in range(5):\n",
    "    while True:\n",
    "        for i in range(5):\n",
    "            student_last = input(\"Please insert your last name or if you wish to not continue please input ZZZ in all caps.\")\n",
    "            if student_last == \"ZZZ\":\n",
    "                print(\"We will not continue to see if you are on the Dean's list!\")\n",
    "                break  # Break out of the for loop\n",
    "            else:\n",
    "                student_first = input(\"Please insert your first name.\")\n",
    "                gpa = float(input(\"Please insert your GPA.\"))\n",
    "                if gpa >= 3.25:\n",
    "                    print(\"Congratulations you are on the Honor Roll!!\")\n",
    "                if gpa >= 3.5:\n",
    "                    print(\"Congratulations you are also on the Dean's List!!!\")\n",
    "                else:\n",
    "                    print(\"Sorry you did not get on the Dean's list and you are not on the Honor Roll.\")\n",
    "        # Break out of the while loop if the for loop was broken\n",
    "        if student_last == \"ZZZ\":\n",
    "            break\n"
   ]
  },
  {
   "cell_type": "code",
   "execution_count": null,
   "id": "8394d583-c3d7-46fe-80a8-958ccaeb0d77",
   "metadata": {},
   "outputs": [],
   "source": []
  }
 ],
 "metadata": {
  "kernelspec": {
   "display_name": "Python 3 (ipykernel)",
   "language": "python",
   "name": "python3"
  },
  "language_info": {
   "codemirror_mode": {
    "name": "ipython",
    "version": 3
   },
   "file_extension": ".py",
   "mimetype": "text/x-python",
   "name": "python",
   "nbconvert_exporter": "python",
   "pygments_lexer": "ipython3",
   "version": "3.12.4"
  }
 },
 "nbformat": 4,
 "nbformat_minor": 5
}
