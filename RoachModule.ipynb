{
 "cells": [
  {
   "cell_type": "code",
   "execution_count": null,
   "id": "fcfbd37c-5ca4-4062-ab76-285e44f1b1ea",
   "metadata": {},
   "outputs": [
    {
     "name": "stdin",
     "output_type": "stream",
     "text": [
      "Please insert your last name or if you wish to not continue please input ZZZ in all caps. smith\n",
      "Please insert your first name. john\n",
      "Please insert your GPA. 4\n"
     ]
    },
    {
     "name": "stdout",
     "output_type": "stream",
     "text": [
      "Congretulations you are on Honor roll!!\n",
      "Congratulations you are also on the Dean's List!!!\n"
     ]
    },
    {
     "name": "stdin",
     "output_type": "stream",
     "text": [
      "Please insert your last name or if you wish to not continue please input ZZZ in all caps. jahnson\n",
      "Please insert your first name. jack\n",
      "Please insert your GPA. 1.5\n"
     ]
    },
    {
     "name": "stdout",
     "output_type": "stream",
     "text": [
      "Sorry you did not get on the Dean's list and you are not on honor roll.\n"
     ]
    },
    {
     "name": "stdin",
     "output_type": "stream",
     "text": [
      "Please insert your last name or if you wish to not continue please input ZZZ in all caps. sticky\n",
      "Please insert your first name. Ghost\n",
      "Please insert your GPA. 2.54\n"
     ]
    },
    {
     "name": "stdout",
     "output_type": "stream",
     "text": [
      "Sorry you did not get on the Dean's list and you are not on honor roll.\n"
     ]
    },
    {
     "name": "stdin",
     "output_type": "stream",
     "text": [
      "Please insert your last name or if you wish to not continue please input ZZZ in all caps. face\n",
      "Please insert your first name. ghost\n",
      "Please insert your GPA. 4.4\n"
     ]
    },
    {
     "name": "stdout",
     "output_type": "stream",
     "text": [
      "Congretulations you are on Honor roll!!\n",
      "Congratulations you are also on the Dean's List!!!\n"
     ]
    },
    {
     "name": "stdin",
     "output_type": "stream",
     "text": [
      "Please insert your last name or if you wish to not continue please input ZZZ in all caps. Vorhes\n",
      "Please insert your first name. Jason\n",
      "Please insert your GPA. 0.54\n"
     ]
    },
    {
     "name": "stdout",
     "output_type": "stream",
     "text": [
      "Sorry you did not get on the Dean's list and you are not on honor roll.\n"
     ]
    }
   ],
   "source": [
    "while True:\n",
    "    for i in range(5):\n",
    "        student_last = input(\"Please insert your last name or if you wish to not continue please input ZZZ in all caps.\")\n",
    "        if student_last == \"ZZZ\":\n",
    "            print(\"we will not continue to see of you are on the Dean's list!\")\n",
    "        else:\n",
    "            student_first = input(\"Please insert your first name.\")\n",
    "            gpa = float(input(\"Please insert your GPA.\"))\n",
    "            if gpa >= 3.25:\n",
    "                print(\"Congretulations you are on Honor roll!!\")\n",
    "            if gpa >= 3.5:\n",
    "                print(\"Congratulations you are also on the Dean's List!!!\")\n",
    "            else:\n",
    "                print(\"Sorry you did not get on the Dean's list and you are not on honor roll.\")\n",
    "            "
   ]
  },
  {
   "cell_type": "code",
   "execution_count": null,
   "id": "13a22732-523f-4a27-aa06-5398def7b14b",
   "metadata": {},
   "outputs": [],
   "source": []
  }
 ],
 "metadata": {
  "kernelspec": {
   "display_name": "Python 3 (ipykernel)",
   "language": "python",
   "name": "python3"
  },
  "language_info": {
   "codemirror_mode": {
    "name": "ipython",
    "version": 3
   },
   "file_extension": ".py",
   "mimetype": "text/x-python",
   "name": "python",
   "nbconvert_exporter": "python",
   "pygments_lexer": "ipython3",
   "version": "3.12.4"
  }
 },
 "nbformat": 4,
 "nbformat_minor": 5
}
