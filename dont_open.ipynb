{
 "cells": [
  {
   "cell_type": "code",
   "execution_count": 57,
   "id": "dfdd3f99-9fa2-4d4d-8bd8-fb45ba67bea8",
   "metadata": {},
   "outputs": [
    {
     "name": "stdout",
     "output_type": "stream",
     "text": [
      "['MOZZARELLA', 'Cinderella']\n"
     ]
    }
   ],
   "source": [
    "things = ['mozzarella', 'cinderella', 'salmonella']\n",
    "\n",
    "things[1] = things[1].title()\n",
    "things.remove('salmonella')\n",
    "things[0] = things[0].upper()\n",
    "print(things)"
   ]
  },
  {
   "cell_type": "code",
   "execution_count": 75,
   "id": "1d1ca4a7-fc0a-4659-84f4-3cd5d4690f8b",
   "metadata": {},
   "outputs": [],
   "source": [
    "def good():\n",
    "    hpChars = ['Harry', 'Ron', 'Hermione']\n",
    "    return hpChars"
   ]
  },
  {
   "cell_type": "code",
   "execution_count": 77,
   "id": "5b2455ee-f4cb-4ff2-9076-c531991e0962",
   "metadata": {},
   "outputs": [
    {
     "name": "stdout",
     "output_type": "stream",
     "text": [
      "The 3rd odd number is: 5\n"
     ]
    }
   ],
   "source": [
    "def get_odds():\n",
    "    num = 1\n",
    "    while True:\n",
    "        yield num\n",
    "        num += 2\n",
    "\n",
    "odd_generator = get_odds()\n",
    "\n",
    "third_value = None\n",
    "for i in range(3):\n",
    "    third_value = next(odd_generator)\n",
    "\n",
    "print(f\"The 3rd odd number is: {third_value}\")\n"
   ]
  },
  {
   "cell_type": "code",
   "execution_count": 83,
   "id": "88a41b69-3aed-407b-84d0-38c261f6351b",
   "metadata": {},
   "outputs": [
    {
     "ename": "TypeError",
     "evalue": "test() missing 1 required positional argument: 'func'",
     "output_type": "error",
     "traceback": [
      "\u001b[1;31m---------------------------------------------------------------------------\u001b[0m",
      "\u001b[1;31mTypeError\u001b[0m                                 Traceback (most recent call last)",
      "Cell \u001b[1;32mIn[83], line 8\u001b[0m\n\u001b[0;32m      6\u001b[0m         \u001b[38;5;28;01mreturn\u001b[39;00m result\n\u001b[0;32m      7\u001b[0m     \u001b[38;5;28;01mreturn\u001b[39;00m wrapper\n\u001b[1;32m----> 8\u001b[0m test( )\n",
      "\u001b[1;31mTypeError\u001b[0m: test() missing 1 required positional argument: 'func'"
     ]
    }
   ],
   "source": [
    "def test(func):\n",
    "    def wrapper(*args, **kwargs):\n",
    "        print('start')\n",
    "        result = func(*args, **kwargs)\n",
    "        print('end')\n",
    "        return result\n",
    "    return wrapper\n",
    "test( )"
   ]
  },
  {
   "cell_type": "code",
   "execution_count": null,
   "id": "b7dc3a10-3cbe-4e57-aa1c-18e4bc769f81",
   "metadata": {},
   "outputs": [],
   "source": []
  }
 ],
 "metadata": {
  "kernelspec": {
   "display_name": "Python 3 (ipykernel)",
   "language": "python",
   "name": "python3"
  },
  "language_info": {
   "codemirror_mode": {
    "name": "ipython",
    "version": 3
   },
   "file_extension": ".py",
   "mimetype": "text/x-python",
   "name": "python",
   "nbconvert_exporter": "python",
   "pygments_lexer": "ipython3",
   "version": "3.12.4"
  }
 },
 "nbformat": 4,
 "nbformat_minor": 5
}
