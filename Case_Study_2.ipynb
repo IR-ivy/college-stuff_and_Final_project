{
 "cells": [
  {
   "cell_type": "code",
   "execution_count": 3,
   "id": "13a22732-523f-4a27-aa06-5398def7b14b",
   "metadata": {},
   "outputs": [
    {
     "name": "stdin",
     "output_type": "stream",
     "text": [
      "Enter the year of the car:  1969\n",
      "Enter the make of the car:  Chevy\n",
      "Enter the model of the car:  Impala\n",
      "Enter the number of doors (2 or 4):  4\n",
      "Enter the type of roof (solid or sun roof):  solid\n"
     ]
    },
    {
     "name": "stdout",
     "output_type": "stream",
     "text": [
      "Vehicle type: car\n",
      "Year: 1969\n",
      "Make: Chevy\n",
      "Model: Impala\n",
      "Number of doors: 4\n",
      "Type of roof: solid\n"
     ]
    }
   ],
   "source": [
    "class Vehicle:\n",
    "  def __init__(self, vehicle_type):\n",
    "    self.vehicle_type = vehicle_type\n",
    "\n",
    "class Automobile(Vehicle):\n",
    "  def __init__(self, vehicle_type, year, make, model, doors, roof):\n",
    "    super().__init__(vehicle_type)\n",
    "    self.year = year\n",
    "    self.make = make\n",
    "    self.model = model\n",
    "    self.doors = doors\n",
    "    self.roof = roof\n",
    "\n",
    "  def display_info(self):\n",
    "    print(f\"Vehicle type: {self.vehicle_type}\")\n",
    "    print(f\"Year: {self.year}\")\n",
    "    print(f\"Make: {self.make}\")\n",
    "    print(f\"Model: {self.model}\")\n",
    "    print(f\"Number of doors: {self.doors}\")\n",
    "    print(f\"Type of roof: {self.roof}\")\n",
    "\n",
    "vehicle_type = \"car\"\n",
    "year = input(\"Enter the year of the car: \")\n",
    "make = input(\"Enter the make of the car: \")\n",
    "model = input(\"Enter the model of the car: \")\n",
    "doors = input(\"Enter the number of doors (2 or 4): \")\n",
    "roof = input(\"Enter the type of roof (solid or sun roof): \")\n",
    "my_car = Automobile(vehicle_type, year, make, model, doors, roof)\n",
    "my_car.display_info()\n"
   ]
  },
  {
   "cell_type": "code",
   "execution_count": null,
   "id": "640df0ae-ac4b-4a3a-891b-ceaa4709ec99",
   "metadata": {},
   "outputs": [],
   "source": []
  }
 ],
 "metadata": {
  "kernelspec": {
   "display_name": "Python 3 (ipykernel)",
   "language": "python",
   "name": "python3"
  },
  "language_info": {
   "codemirror_mode": {
    "name": "ipython",
    "version": 3
   },
   "file_extension": ".py",
   "mimetype": "text/x-python",
   "name": "python",
   "nbconvert_exporter": "python",
   "pygments_lexer": "ipython3",
   "version": "3.12.4"
  }
 },
 "nbformat": 4,
 "nbformat_minor": 5
}
